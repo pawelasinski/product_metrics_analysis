{
 "cells": [
  {
   "cell_type": "markdown",
   "id": "cardiovascular-blues",
   "metadata": {},
   "source": [
    "__Вводные данные:__\n",
    "\n",
    "Дана выгрузка данных пользователей в виде когортного анализа. Стоимость подписки, которую приобретали пользователи мобильного приложения, – 9,99 $.\n",
    "\n",
    "__Задача:__\n",
    "\n",
    "Необходимо рассчитать прогнозный LTV24 (сколько нам принесет пользователь на протяжении 24-х месяцев использования приложения) на основании имеющихся данных. Следует учитывать, что с покупки подписки 30 % от стоимости подписки забирает Apple в первый год, 15 % - во второй.\n",
    "\n",
    "---"
   ]
  },
  {
   "cell_type": "code",
   "execution_count": 1,
   "id": "coordinate-proportion",
   "metadata": {},
   "outputs": [],
   "source": [
    "import pandas as pd"
   ]
  },
  {
   "cell_type": "code",
   "execution_count": 2,
   "id": "anonymous-emperor",
   "metadata": {},
   "outputs": [],
   "source": [
    "cohort = pd.read_excel('result.xlsx', sheet_name=2, usecols='B:AA', nrows=23)\n",
    "cohort.fillna(0, inplace=True)"
   ]
  },
  {
   "cell_type": "code",
   "execution_count": 3,
   "id": "occupational-radar",
   "metadata": {},
   "outputs": [],
   "source": [
    "cohort;"
   ]
  },
  {
   "cell_type": "code",
   "execution_count": 4,
   "id": "afraid-hanging",
   "metadata": {},
   "outputs": [],
   "source": [
    "cohort_active = cohort.copy(deep=True)\n",
    "\n",
    "# расчёт процента продления подписки (то же, что Retention Rate)\n",
    "for i in range(22):\n",
    "    for j in range(2, 26):\n",
    "        cohort_active.iloc[i, j] = cohort_active.iloc[i, j] / cohort_active.iloc[i, 1]"
   ]
  },
  {
   "cell_type": "code",
   "execution_count": 5,
   "id": "similar-exclusive",
   "metadata": {},
   "outputs": [],
   "source": [
    "cohort_active;"
   ]
  },
  {
   "cell_type": "code",
   "execution_count": 6,
   "id": "disciplinary-routine",
   "metadata": {},
   "outputs": [],
   "source": [
    "# расчёт среднего процента продления подписки по месяцам\n",
    "agg_cohort_active = cohort_active.copy(deep=True)\n",
    "agg_cohort_active.drop(['Date', 'Trial'], axis=1, inplace=True)\n",
    "mean_cohort_active = agg_cohort_active.mean()"
   ]
  },
  {
   "cell_type": "code",
   "execution_count": 7,
   "id": "limiting-croatia",
   "metadata": {},
   "outputs": [],
   "source": [
    "mean_cohort_active;"
   ]
  },
  {
   "cell_type": "code",
   "execution_count": 8,
   "id": "cloudy-breast",
   "metadata": {},
   "outputs": [],
   "source": [
    "# расчёт дохода относительно вовлечённости: 6.99 $ в первый год, 8.49 $ во второй год\n",
    "mean_cohort_active[:12] = mean_cohort_active[:12] * 6.99\n",
    "mean_cohort_active[12:] = mean_cohort_active[12:] * 8.49\n",
    "revenue_24 = mean_cohort_active"
   ]
  },
  {
   "cell_type": "code",
   "execution_count": 9,
   "id": "exclusive-third",
   "metadata": {},
   "outputs": [],
   "source": [
    "revenue_24;"
   ]
  },
  {
   "cell_type": "code",
   "execution_count": 10,
   "id": "revised-kennedy",
   "metadata": {},
   "outputs": [
    {
     "data": {
      "text/plain": [
       "8.11"
      ]
     },
     "execution_count": 10,
     "metadata": {},
     "output_type": "execute_result"
    }
   ],
   "source": [
    "# расчёт LTV за 24 месяца\n",
    "round(sum(revenue_24), 2)"
   ]
  },
  {
   "cell_type": "markdown",
   "id": "indian-cedar",
   "metadata": {},
   "source": [
    "Пользователь, пользуясь приложением 2 года, принесёт компании чуть больше __8 $__."
   ]
  }
 ],
 "metadata": {
  "kernelspec": {
   "display_name": "Python 3",
   "language": "python",
   "name": "python3"
  },
  "language_info": {
   "codemirror_mode": {
    "name": "ipython",
    "version": 3
   },
   "file_extension": ".py",
   "mimetype": "text/x-python",
   "name": "python",
   "nbconvert_exporter": "python",
   "pygments_lexer": "ipython3",
   "version": "3.8.8"
  }
 },
 "nbformat": 4,
 "nbformat_minor": 5
}
